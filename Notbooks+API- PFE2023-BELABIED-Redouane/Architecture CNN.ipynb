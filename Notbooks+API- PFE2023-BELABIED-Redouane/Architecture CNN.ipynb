{
 "cells": [
  {
   "cell_type": "markdown",
   "metadata": {},
   "source": [
    "### Bibliotheques"
   ]
  },
  {
   "cell_type": "code",
   "execution_count": null,
   "metadata": {
    "execution": {
     "iopub.execute_input": "2023-02-01T10:13:23.411914Z",
     "iopub.status.busy": "2023-02-01T10:13:23.411506Z",
     "iopub.status.idle": "2023-02-01T10:13:29.756015Z",
     "shell.execute_reply": "2023-02-01T10:13:29.754992Z",
     "shell.execute_reply.started": "2023-02-01T10:13:23.411834Z"
    }
   },
   "outputs": [],
   "source": [
    "#Importation des bibliotheques necessaires\n",
    "import numpy as np\n",
    "import pandas as pd\n",
    "import seaborn as sns\n",
    "import tensorflow as tf\n",
    "import matplotlib.pyplot as plt\n",
    "\n",
    "import os\n",
    "from distutils.dir_util import copy_tree, remove_tree\n",
    "\n",
    "from PIL import Image\n",
    "from random import randint\n",
    "\n",
    "from imblearn.over_sampling import SMOTE\n",
    "from sklearn.model_selection import train_test_split\n",
    "from sklearn.metrics import matthews_corrcoef as MCC\n",
    "from sklearn.metrics import balanced_accuracy_score as BAS\n",
    "from sklearn.metrics import classification_report, confusion_matrix\n",
    "from sklearn.preprocessing import MinMaxScaler\n",
    "\n",
    "import tensorflow_addons as tfa\n",
    "from keras.utils.vis_utils import plot_model\n",
    "from tensorflow.keras import Sequential, Input\n",
    "from tensorflow.keras.layers import Dense, Dropout\n",
    "from tensorflow.keras.layers import Conv2D, Flatten\n",
    "from tensorflow.keras.callbacks import ReduceLROnPlateau\n",
    "from tensorflow.keras.applications.inception_v3 import InceptionV3\n",
    "from tensorflow.keras.applications.resnet50 import ResNet50\n",
    "from tensorflow.keras.applications.vgg16 import VGG16\n",
    "from tensorflow.keras.applications.vgg19 import VGG19\n",
    "\n",
    "from tensorflow.keras.preprocessing.image import ImageDataGenerator as IDG\n",
    "from tensorflow.keras.layers import SeparableConv2D, BatchNormalization, GlobalAveragePooling2D\n",
    "\n",
    "\n",
    "print(\"TensorFlow Version:\", tf.__version__)"
   ]
  },
  {
   "cell_type": "markdown",
   "metadata": {},
   "source": [
    "### Data Pre-Processing"
   ]
  },
  {
   "cell_type": "code",
   "execution_count": null,
   "metadata": {
    "execution": {
     "iopub.execute_input": "2023-02-01T10:13:29.758382Z",
     "iopub.status.busy": "2023-02-01T10:13:29.758011Z",
     "iopub.status.idle": "2023-02-01T10:13:53.520400Z",
     "shell.execute_reply": "2023-02-01T10:13:53.519407Z",
     "shell.execute_reply.started": "2023-02-01T10:13:29.758340Z"
    }
   },
   "outputs": [],
   "source": [
    "#Dossiers des dataset\n",
    "\n",
    "base_dir = \"../dataset/\"\n",
    "root_dir = \"./\"\n",
    "work_dir = root_dir + \"adni/\"\n",
    "#work_dir = root_dir + \"kaggle/\"\n",
    "    \n",
    "print(\"Working Directory Contents:\", os.listdir(work_dir))"
   ]
  },
  {
   "cell_type": "code",
   "execution_count": null,
   "metadata": {
    "execution": {
     "iopub.execute_input": "2023-02-01T10:13:53.522344Z",
     "iopub.status.busy": "2023-02-01T10:13:53.521829Z",
     "iopub.status.idle": "2023-02-01T10:13:53.527034Z",
     "shell.execute_reply": "2023-02-01T10:13:53.526082Z",
     "shell.execute_reply.started": "2023-02-01T10:13:53.522304Z"
    }
   },
   "outputs": [],
   "source": [
    "#Initialisation des classes et la taille des images\n",
    "WORK_DIR = './adni/'\n",
    "\n",
    "CLASSES = ['AD','MCI','CN']\n",
    "\n",
    "IMG_SIZE = 176\n",
    "IMAGE_SIZE = [176, 176]\n",
    "DIM = (IMG_SIZE, IMG_SIZE)"
   ]
  },
  {
   "cell_type": "code",
   "execution_count": null,
   "metadata": {
    "execution": {
     "iopub.execute_input": "2023-02-01T10:13:53.529069Z",
     "iopub.status.busy": "2023-02-01T10:13:53.528459Z",
     "iopub.status.idle": "2023-02-01T10:13:53.855683Z",
     "shell.execute_reply": "2023-02-01T10:13:53.854604Z",
     "shell.execute_reply.started": "2023-02-01T10:13:53.529034Z"
    }
   },
   "outputs": [],
   "source": [
    "#Augmentation des données\n",
    "\n",
    "ZOOM = [.99, 1.01]\n",
    "BRIGHT_RANGE = [0.8, 1.2]\n",
    "HORZ_FLIP = False\n",
    "FILL_MODE = \"constant\"\n",
    "DATA_FORMAT = \"channels_last\"\n",
    "\n",
    "work_dr = IDG(rescale = 1./255, brightness_range=BRIGHT_RANGE, zoom_range=ZOOM, data_format=DATA_FORMAT, fill_mode=FILL_MODE, horizontal_flip=HORZ_FLIP)\n",
    "#work_dr = IDG(brightness_range=BRIGHT_RANGE, zoom_range=ZOOM, data_format=DATA_FORMAT, fill_mode=FILL_MODE, horizontal_flip=HORZ_FLIP)\n",
    "train_data_gen = work_dr.flow_from_directory(directory=WORK_DIR, target_size=DIM, batch_size=6500, shuffle=True)"
   ]
  },
  {
   "cell_type": "code",
   "execution_count": null,
   "metadata": {},
   "outputs": [],
   "source": [
    "#Normalisation\n",
    "image_pixels = train_data.reshape(-1, train_data.shape[-1])\n",
    "\n",
    "# Creation MinMaxScaler\n",
    "scaler = MinMaxScaler()\n",
    "scaler.fit(image_pixels)\n",
    "\n",
    "# Transformer les pixels en [0, 1]\n",
    "image_pixels = scaler.transform(image_pixels)\n",
    "\n",
    "# Retoure au demention originale des images\n",
    "train_data = image_pixels.reshape(train_data.shape)"
   ]
  },
  {
   "cell_type": "code",
   "execution_count": null,
   "metadata": {
    "execution": {
     "iopub.execute_input": "2023-02-01T10:13:53.859015Z",
     "iopub.status.busy": "2023-02-01T10:13:53.858752Z",
     "iopub.status.idle": "2023-02-01T10:13:53.866575Z",
     "shell.execute_reply": "2023-02-01T10:13:53.865697Z",
     "shell.execute_reply.started": "2023-02-01T10:13:53.858988Z"
    }
   },
   "outputs": [],
   "source": [
    "#Affichage des images irm\n",
    "\"\"\"def show_images(generator,y_pred=None):\n",
    "    \n",
    "    Input: An image generator,predicted labels (optional)\n",
    "    Output: Displays a grid of 9 images with lables\n",
    "    \n",
    "    \n",
    "    # get image lables\n",
    "    labels =dict(zip([0,1,2,3], CLASSES))\n",
    "    \n",
    "    # get a batch of images\n",
    "    x,y = generator.next()\n",
    "    \n",
    "    # display a grid of 9 images\n",
    "    plt.figure(figsize=(10, 10))\n",
    "    if y_pred is None:\n",
    "        for i in range(9):\n",
    "            ax = plt.subplot(3, 3, i + 1)\n",
    "            idx = randint(0, 6400)\n",
    "            plt.imshow(x[idx])\n",
    "            plt.axis(\"off\")\n",
    "            plt.title(\"Class:{}\".format(labels[np.argmax(y[idx])]))\n",
    "                                                     \n",
    "    else:\n",
    "        for i in range(9):\n",
    "            ax = plt.subplot(3, 3, i + 1)\n",
    "            plt.imshow(x[i])\n",
    "            plt.axis(\"off\")\n",
    "            plt.title(\"Actual:{} \\nPredicted:{}\".format(labels[np.argmax(y[i])],labels[y_pred[i]]))\n",
    "    \n",
    "# Display Train Images\n",
    "show_images(train_data_gen)\"\"\""
   ]
  },
  {
   "cell_type": "code",
   "execution_count": null,
   "metadata": {
    "execution": {
     "iopub.execute_input": "2023-02-01T10:13:53.870603Z",
     "iopub.status.busy": "2023-02-01T10:13:53.870062Z",
     "iopub.status.idle": "2023-02-01T10:14:37.374290Z",
     "shell.execute_reply": "2023-02-01T10:14:37.373402Z",
     "shell.execute_reply.started": "2023-02-01T10:13:53.870565Z"
    }
   },
   "outputs": [],
   "source": [
    "#Récupérer les données à partir de l'itérateur ImageDataGenerator.\n",
    "\n",
    "train_data, train_labels = train_data_gen.next()"
   ]
  },
  {
   "cell_type": "code",
   "execution_count": null,
   "metadata": {
    "execution": {
     "iopub.execute_input": "2023-02-01T10:14:37.375893Z",
     "iopub.status.busy": "2023-02-01T10:14:37.375541Z",
     "iopub.status.idle": "2023-02-01T10:14:37.381686Z",
     "shell.execute_reply": "2023-02-01T10:14:37.380764Z",
     "shell.execute_reply.started": "2023-02-01T10:14:37.375857Z"
    }
   },
   "outputs": [],
   "source": [
    "#Les dimensions des données\n",
    "\n",
    "print(train_data.shape, train_labels.shape)"
   ]
  },
  {
   "cell_type": "code",
   "execution_count": null,
   "metadata": {
    "execution": {
     "iopub.execute_input": "2023-02-01T10:14:37.383559Z",
     "iopub.status.busy": "2023-02-01T10:14:37.383031Z",
     "iopub.status.idle": "2023-02-01T10:15:12.907515Z",
     "shell.execute_reply": "2023-02-01T10:15:12.906580Z",
     "shell.execute_reply.started": "2023-02-01T10:14:37.383523Z"
    }
   },
   "outputs": [],
   "source": [
    "#Effectuer une sur-échantillonnage (OverSampling) des données, car les classes sont déséquilibrées.\n",
    "\n",
    "sm = SMOTE(random_state=42)\n",
    "\n",
    "train_data, train_labels = sm.fit_resample(train_data.reshape(-1, IMG_SIZE * IMG_SIZE * 3), train_labels)\n",
    "\n",
    "train_data = train_data.reshape(-1, IMG_SIZE, IMG_SIZE, 3)\n",
    "\n",
    "print(train_data.shape, train_labels.shape)"
   ]
  },
  {
   "cell_type": "code",
   "execution_count": null,
   "metadata": {},
   "outputs": [],
   "source": [
    "# Verification des données aprés l'equilibre\n",
    "class_indices = np.argmax(train_labels, axis=1)\n",
    "\n",
    "# Nombre de classes\n",
    "class_counts = {cls: np.sum(class_indices == idx) for idx, cls in enumerate(CLASSES)}\n",
    "\n",
    "# Extraire les noms des classes\n",
    "counts = list(class_counts.values())\n",
    "class_names = list(class_counts.keys())\n",
    "\n",
    "# Creation de graphe\n",
    "plt.figure(figsize=(10, 6))\n",
    "plt.bar(class_names, counts, color='green')\n",
    "plt.xlabel('Classes')\n",
    "plt.ylabel('Number of Images')\n",
    "plt.title('Number of Images in Each Class')\n",
    "plt.xticks(rotation=45, ha='right')\n",
    "\n",
    "\n",
    "plt.tight_layout()\n",
    "plt.show()"
   ]
  },
  {
   "cell_type": "code",
   "execution_count": null,
   "metadata": {
    "execution": {
     "iopub.execute_input": "2023-02-01T10:15:12.909599Z",
     "iopub.status.busy": "2023-02-01T10:15:12.909022Z",
     "iopub.status.idle": "2023-02-01T10:15:15.558013Z",
     "shell.execute_reply": "2023-02-01T10:15:15.556855Z",
     "shell.execute_reply.started": "2023-02-01T10:15:12.909558Z"
    }
   },
   "outputs": [],
   "source": [
    "#Diviser les données en ensembles d'entraînement, de test et de validation.\n",
    "\n",
    "train_data, test_data, train_labels, test_labels = train_test_split(train_data, train_labels, test_size = 0.2, random_state=42)\n",
    "train_data, val_data, train_labels, val_labels = train_test_split(train_data, train_labels, test_size = 0.2, random_state=42)"
   ]
  },
  {
   "cell_type": "markdown",
   "metadata": {},
   "source": [
    "### Utilisation de VGG19"
   ]
  },
  {
   "cell_type": "code",
   "execution_count": null,
   "metadata": {
    "execution": {
     "iopub.execute_input": "2023-02-01T10:15:15.559688Z",
     "iopub.status.busy": "2023-02-01T10:15:15.559350Z",
     "iopub.status.idle": "2023-02-01T10:15:19.497572Z",
     "shell.execute_reply": "2023-02-01T10:15:19.496778Z",
     "shell.execute_reply.started": "2023-02-01T10:15:15.559651Z"
    }
   },
   "outputs": [],
   "source": [
    "#Importer le modele pre entraine VGG19 (import weights)\n",
    "vgg_model = VGG19(input_shape=(176, 176, 3), include_top=False, weights=\"imagenet\")"
   ]
  },
  {
   "cell_type": "code",
   "execution_count": null,
   "metadata": {},
   "outputs": [],
   "source": [
    "#Importer le modele pre entraine InceptionV3 (import weights)\n",
    "#inception_model = InceptionV3(input_shape=(176, 176, 3), include_top=False, weights=\"imagenet\")"
   ]
  },
  {
   "cell_type": "code",
   "execution_count": null,
   "metadata": {},
   "outputs": [],
   "source": [
    "plot_model(vgg_model, show_shapes=True, show_layer_names=True)"
   ]
  },
  {
   "cell_type": "code",
   "execution_count": null,
   "metadata": {
    "execution": {
     "iopub.execute_input": "2023-02-01T10:15:19.499475Z",
     "iopub.status.busy": "2023-02-01T10:15:19.499135Z",
     "iopub.status.idle": "2023-02-01T10:15:19.504548Z",
     "shell.execute_reply": "2023-02-01T10:15:19.503647Z",
     "shell.execute_reply.started": "2023-02-01T10:15:19.499437Z"
    }
   },
   "outputs": [],
   "source": [
    "# Freeze layers (Pour appliquer le transfer learning)\n",
    "for layer in vgg_model.layers:\n",
    "    layer.trainable=False"
   ]
  },
  {
   "cell_type": "code",
   "execution_count": null,
   "metadata": {},
   "outputs": [],
   "source": [
    "# Couche entierement connecté (Fully connected layers)\n",
    "custom_vgg_model = Sequential([\n",
    "        vgg_model,\n",
    "        \n",
    "        GlobalAveragePooling2D(),\n",
    "        Flatten(),\n",
    "        BatchNormalization(),\n",
    "        Dense(512, activation='relu'),\n",
    "        BatchNormalization(),\n",
    "        Dense(256, activation='relu'),\n",
    "        Dropout(0.5),\n",
    "        BatchNormalization(),\n",
    "        \n",
    "        Dense(3, activation='softmax')        \n",
    "    ], name = \"vgg_cnn_model\")"
   ]
  },
  {
   "cell_type": "code",
   "execution_count": null,
   "metadata": {
    "execution": {
     "iopub.execute_input": "2023-02-01T10:15:19.831998Z",
     "iopub.status.busy": "2023-02-01T10:15:19.831686Z",
     "iopub.status.idle": "2023-02-01T10:15:19.838697Z",
     "shell.execute_reply": "2023-02-01T10:15:19.837525Z",
     "shell.execute_reply.started": "2023-02-01T10:15:19.831958Z"
    }
   },
   "outputs": [],
   "source": [
    "#Les fonction de callbacks pour l'entrainement\n",
    "\n",
    "class MyCallback(tf.keras.callbacks.Callback):\n",
    "    def on_epoch_end(self, epoch, logs={}):\n",
    "        if logs.get('acc') > 0.99:\n",
    "            print(\"\\nReached accuracy threshold! Terminating training.\")\n",
    "            self.model.stop_training = True\n",
    "            \n",
    "my_callback = MyCallback()\n",
    "\n",
    "#Eviter la Stabilisation d'entrainement et minimum local\n",
    "rop_callback = ReduceLROnPlateau(monitor=\"val_loss\", patience=3)"
   ]
  },
  {
   "cell_type": "code",
   "execution_count": null,
   "metadata": {
    "execution": {
     "iopub.execute_input": "2023-02-01T10:15:19.841765Z",
     "iopub.status.busy": "2023-02-01T10:15:19.840275Z",
     "iopub.status.idle": "2023-02-01T10:15:19.885453Z",
     "shell.execute_reply": "2023-02-01T10:15:19.884750Z",
     "shell.execute_reply.started": "2023-02-01T10:15:19.841728Z"
    }
   },
   "outputs": [],
   "source": [
    "#Les metriques utilisées, optimiseur, fonction de perte\n",
    "METRICS = [tf.keras.metrics.CategoricalAccuracy(name='acc'),\n",
    "           tf.keras.metrics.AUC(name='auc'),\n",
    "           tfa.metrics.F1Score(num_classes=3)]\n",
    "\n",
    "CALLBACKS = [my_callback, rop_callback]\n",
    "    \n",
    "custom_vgg_model.compile(optimizer='rmsprop',\n",
    "                              loss=tf.losses.CategoricalCrossentropy(),\n",
    "                              metrics=METRICS)\n",
    "\n",
    "custom_vgg_model.summary()"
   ]
  },
  {
   "cell_type": "code",
   "execution_count": null,
   "metadata": {
    "execution": {
     "iopub.execute_input": "2023-02-01T10:15:19.887003Z",
     "iopub.status.busy": "2023-02-01T10:15:19.886679Z",
     "iopub.status.idle": "2023-02-01T10:44:18.868543Z",
     "shell.execute_reply": "2023-02-01T10:44:18.867784Z",
     "shell.execute_reply.started": "2023-02-01T10:15:19.886968Z"
    }
   },
   "outputs": [],
   "source": [
    "#L'entrainement de modele en 80 epochs avec les données d'entrainement et validation\n",
    "EPOCHS = 80\n",
    "\n",
    "history = custom_vgg_model.fit(train_data, train_labels, validation_data=(val_data, val_labels), callbacks=CALLBACKS, epochs=EPOCHS)"
   ]
  },
  {
   "cell_type": "markdown",
   "metadata": {},
   "source": [
    "### Test et resultats de modele"
   ]
  },
  {
   "cell_type": "code",
   "execution_count": null,
   "metadata": {
    "execution": {
     "iopub.execute_input": "2023-02-01T10:44:18.870583Z",
     "iopub.status.busy": "2023-02-01T10:44:18.870246Z",
     "iopub.status.idle": "2023-02-01T10:44:19.302461Z",
     "shell.execute_reply": "2023-02-01T10:44:19.301550Z",
     "shell.execute_reply.started": "2023-02-01T10:44:18.870549Z"
    }
   },
   "outputs": [],
   "source": [
    "#Les graphe des metriques durant l'entrainement\n",
    "\n",
    "fig, ax = plt.subplots(1, 3, figsize = (30, 5))\n",
    "ax = ax.ravel()\n",
    "\n",
    "for i, metric in enumerate([\"acc\", \"auc\", \"loss\"]):\n",
    "    ax[i].plot(history.history[metric])\n",
    "    ax[i].plot(history.history[\"val_\" + metric])\n",
    "    ax[i].set_title(\"Model {}\".format(metric))\n",
    "    ax[i].set_xlabel(\"Epochs\")\n",
    "    ax[i].set_ylabel(metric)\n",
    "    ax[i].legend([\"train\", \"val\"])"
   ]
  },
  {
   "cell_type": "code",
   "execution_count": null,
   "metadata": {
    "execution": {
     "iopub.execute_input": "2023-02-01T10:44:19.303690Z",
     "iopub.status.busy": "2023-02-01T10:44:19.303432Z",
     "iopub.status.idle": "2023-02-01T10:44:24.347430Z",
     "shell.execute_reply": "2023-02-01T10:44:24.346597Z",
     "shell.execute_reply.started": "2023-02-01T10:44:19.303649Z"
    }
   },
   "outputs": [],
   "source": [
    "#Evaluation de modele par accuraccy de test\n",
    "\n",
    "#train_scores = model.evaluate(train_data, train_labels)\n",
    "#val_scores = model.evaluate(val_data, val_labels)\n",
    "test_scores = custom_inception_model.evaluate(test_data, test_labels)\n",
    "\n",
    "#print(\"Training Accuracy: %.2f%%\"%(train_scores[1] * 100))\n",
    "#print(\"Validation Accuracy: %.2f%%\"%(val_scores[1] * 100))\n",
    "print(\"Testing Accuracy: %.2f%%\"%(test_scores[1] * 100))"
   ]
  },
  {
   "cell_type": "code",
   "execution_count": null,
   "metadata": {
    "execution": {
     "iopub.execute_input": "2023-02-01T10:44:24.349012Z",
     "iopub.status.busy": "2023-02-01T10:44:24.348686Z",
     "iopub.status.idle": "2023-02-01T10:44:29.214716Z",
     "shell.execute_reply": "2023-02-01T10:44:29.210242Z",
     "shell.execute_reply.started": "2023-02-01T10:44:24.348978Z"
    }
   },
   "outputs": [],
   "source": [
    "#Prediction des données de test\n",
    "\n",
    "pred_labels = custom_inception_model.predict(test_data)"
   ]
  },
  {
   "cell_type": "code",
   "execution_count": null,
   "metadata": {
    "execution": {
     "iopub.execute_input": "2023-02-01T10:44:29.220068Z",
     "iopub.status.busy": "2023-02-01T10:44:29.219641Z",
     "iopub.status.idle": "2023-02-01T10:44:29.325355Z",
     "shell.execute_reply": "2023-02-01T10:44:29.324426Z",
     "shell.execute_reply.started": "2023-02-01T10:44:29.220031Z"
    }
   },
   "outputs": [],
   "source": [
    "#Le rapport de classification : precision, reccall, f1 score\n",
    "\n",
    "def roundoff(arr):\n",
    "    \"\"\"To round off according to the argmax of each predicted label array. \"\"\"\n",
    "    arr[np.argwhere(arr != arr.max())] = 0\n",
    "    arr[np.argwhere(arr == arr.max())] = 1\n",
    "    return arr\n",
    "\n",
    "for labels in pred_labels:\n",
    "    labels = roundoff(labels)\n",
    "\n",
    "print(classification_report(test_labels, pred_labels, target_names=CLASSES))"
   ]
  },
  {
   "cell_type": "code",
   "execution_count": null,
   "metadata": {},
   "outputs": [],
   "source": [
    "#La matrice de confusion\n",
    "pred_ls = np.argmax(pred_labels, axis=1)\n",
    "test_ls = np.argmax(test_labels, axis=1)\n",
    "conf_matrix = confusion_matrix(test_ls, pred_ls)\n",
    "\n",
    "# Normalize \n",
    "conf_matrix_norm = conf_matrix / conf_matrix.sum(axis=1)[:,np.newaxis] \n",
    "\n",
    "plt.figure(figsize=(8, 6), dpi=80, facecolor='w', edgecolor='k')\n",
    "ax = sns.heatmap(conf_matrix_norm, \n",
    "                cmap='Blues', \n",
    "                annot=True, \n",
    "                fmt='.2%',\n",
    "                xticklabels=CLASSES,\n",
    "                yticklabels=CLASSES)\n",
    "\n",
    "#plt.title('Normalized Confusion Matrix')\n",
    "plt.xlabel('Classe prédite')\n",
    "plt.ylabel('Classe réelle')\n",
    "plt.show()"
   ]
  },
  {
   "cell_type": "code",
   "execution_count": null,
   "metadata": {
    "execution": {
     "iopub.execute_input": "2023-02-01T10:44:29.714242Z",
     "iopub.status.busy": "2023-02-01T10:44:29.713730Z",
     "iopub.status.idle": "2023-02-01T10:44:29.728320Z",
     "shell.execute_reply": "2023-02-01T10:44:29.727450Z",
     "shell.execute_reply.started": "2023-02-01T10:44:29.714201Z"
    }
   },
   "outputs": [],
   "source": [
    "#Autre metriques de classification \n",
    "\n",
    "print(\"Balanced Accuracy Score: {} %\".format(round(BAS(test_ls, pred_ls) * 100, 2)))\n",
    "print(\"Matthew's Correlation Coefficient: {} %\".format(round(MCC(test_ls, pred_ls) * 100, 2)))"
   ]
  },
  {
   "cell_type": "code",
   "execution_count": null,
   "metadata": {
    "execution": {
     "iopub.execute_input": "2023-02-01T10:44:29.730034Z",
     "iopub.status.busy": "2023-02-01T10:44:29.729666Z",
     "iopub.status.idle": "2023-02-01T10:44:29.735481Z",
     "shell.execute_reply": "2023-02-01T10:44:29.734488Z",
     "shell.execute_reply.started": "2023-02-01T10:44:29.729996Z"
    }
   },
   "outputs": [],
   "source": [
    "#Sauvgarde de modele pour futur utilisation\n",
    "\n",
    "custom_vgg_model_dir = work_dir + \"alzheimer_vgg_cnn_model\"\n",
    "custom_vgg_model.save(custom_vgg_model_dir, save_format='h5')\n",
    "os.listdir(work_dir)"
   ]
  },
  {
   "cell_type": "code",
   "execution_count": null,
   "metadata": {
    "execution": {
     "iopub.execute_input": "2023-02-01T10:44:29.737520Z",
     "iopub.status.busy": "2023-02-01T10:44:29.737174Z",
     "iopub.status.idle": "2023-02-01T10:44:29.745397Z",
     "shell.execute_reply": "2023-02-01T10:44:29.744529Z",
     "shell.execute_reply.started": "2023-02-01T10:44:29.737484Z"
    }
   },
   "outputs": [],
   "source": [
    "#Load le modele entrainé\n",
    "pretrained_model = tf.keras.models.load_model(custom_vgg_model_dir)\n",
    "\n",
    "#Verification de l'architecture\n",
    "plot_model(pretrained_model, to_file=work_dir + \"model_plot.png\", show_shapes=True, show_layer_names=True)\n"
   ]
  }
 ],
 "metadata": {
  "kernelspec": {
   "display_name": "Python 3 (ipykernel)",
   "language": "python",
   "name": "python3"
  },
  "language_info": {
   "codemirror_mode": {
    "name": "ipython",
    "version": 3
   },
   "file_extension": ".py",
   "mimetype": "text/x-python",
   "name": "python",
   "nbconvert_exporter": "python",
   "pygments_lexer": "ipython3",
   "version": "3.10.9"
  }
 },
 "nbformat": 4,
 "nbformat_minor": 4
}
